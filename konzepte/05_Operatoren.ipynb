{
 "cells": [
  {
   "cell_type": "markdown",
   "metadata": {},
   "source": [
    "# Operatoren\n",
    "Es folgt eine Reihe von Beispielen, welche Möglichkeiten es gibt, mit Zahlen zu rechnen."
   ]
  },
  {
   "cell_type": "markdown",
   "metadata": {},
   "source": [
    "## Grundrechenarten\n",
    "Addition und Multiplikation funktionieren wie erwartet:"
   ]
  },
  {
   "cell_type": "code",
   "execution_count": 1,
   "metadata": {},
   "outputs": [
    {
     "name": "stderr",
     "output_type": "stream",
     "text": [
      "5\n",
      "-1\n",
      "6\n"
     ]
    }
   ],
   "source": [
    "println(2 + 3)\n",
    "println(2 - 3)\n",
    "println(2 * 3)"
   ]
  },
  {
   "cell_type": "markdown",
   "metadata": {},
   "source": [
    "Die Division von ganzen Zahlen liefert immer eine ganze Zahl:"
   ]
  },
  {
   "cell_type": "code",
   "execution_count": 2,
   "metadata": {},
   "outputs": [
    {
     "name": "stderr",
     "output_type": "stream",
     "text": [
      "0\n",
      "1\n"
     ]
    }
   ],
   "source": [
    "println(2 / 3)\n",
    "println(3 / 2)"
   ]
  },
  {
   "cell_type": "markdown",
   "metadata": {},
   "source": [
    "Will man Nachkommastellen haben, muss man Float-Zahlen dividieren:"
   ]
  },
  {
   "cell_type": "code",
   "execution_count": 3,
   "metadata": {},
   "outputs": [
    {
     "name": "stderr",
     "output_type": "stream",
     "text": [
      "1.75\n"
     ]
    }
   ],
   "source": [
    "println(3.5 / 2.0)"
   ]
  },
  {
   "cell_type": "markdown",
   "metadata": {},
   "source": [
    "Der Modulo-Operator ist das Gegenstück zu Division: Er liefert den Rest beim Dividieren:"
   ]
  },
  {
   "cell_type": "code",
   "execution_count": 4,
   "metadata": {},
   "outputs": [
    {
     "name": "stderr",
     "output_type": "stream",
     "text": [
      "3\n",
      "2\n",
      "-3\n",
      "2\n"
     ]
    }
   ],
   "source": [
    "println(3 % 5)\n",
    "println(5 % 3)\n",
    "println(-3 % 5)\n",
    "println(5 % -3)"
   ]
  },
  {
   "cell_type": "markdown",
   "metadata": {},
   "source": [
    "## Logische Operatoren\n",
    "Zusätzlich zu Zahlen kann man auch mit den beiden Wahrheitswerten `true` und `false` rechnen. Dies ist v.A. in Bedingungen bei Schleifen und If-Then-Else wichtig.\n",
    "Die Wahrheitswerte kann man mit den Operatoren `!` (*nicht*), `&&` (*und*) sowie `||` (*oder*) manipulieren:"
   ]
  },
  {
   "cell_type": "code",
   "execution_count": 5,
   "metadata": {},
   "outputs": [
    {
     "name": "stderr",
     "output_type": "stream",
     "text": [
      "false\n"
     ]
    }
   ],
   "source": [
    "println(!true)"
   ]
  },
  {
   "cell_type": "code",
   "execution_count": 6,
   "metadata": {},
   "outputs": [
    {
     "name": "stderr",
     "output_type": "stream",
     "text": [
      "true\n",
      "false\n",
      "false\n",
      "false\n"
     ]
    }
   ],
   "source": [
    "println(true && true)\n",
    "println(true && false)\n",
    "println(false && true)\n",
    "println(false && false)"
   ]
  },
  {
   "cell_type": "code",
   "execution_count": 7,
   "metadata": {},
   "outputs": [
    {
     "name": "stderr",
     "output_type": "stream",
     "text": [
      "true\n",
      "true\n",
      "true\n",
      "false\n"
     ]
    }
   ],
   "source": [
    "println(true || true)\n",
    "println(true || false)\n",
    "println(false || true)\n",
    "println(false || false)"
   ]
  },
  {
   "cell_type": "markdown",
   "metadata": {},
   "source": [
    "## Vergleichsoperatoren\n",
    "Mit den folgenden Operatoren können Zahlen (und ggf. auch andere Werte) miteinander verglichen werden.\n",
    "Man beachte den Gleichheitsoperator: Will man zwei Zahlen vergleichen, muss man den Operator `==` verwenden, also **zwei** Gleichheitszeichen.\n",
    "Das einzelne Gleichheitszeichen ist bereits für die Zuweisung vergeben."
   ]
  },
  {
   "cell_type": "code",
   "execution_count": 8,
   "metadata": {},
   "outputs": [
    {
     "name": "stderr",
     "output_type": "stream",
     "text": [
      "false\n",
      "false\n",
      "true\n",
      "true\n",
      "false\n",
      "true\n"
     ]
    }
   ],
   "source": [
    "println(42 < 23)   // \"Kleiner als\"\n",
    "println(42 <= 23)  // \"Kleiner oder gleich\"\n",
    "println(42 > 23)   // \"Größer als\"\n",
    "println(42 >= 23)  // \"Größer oder gleich\"\n",
    "println(42 == 23)  // \"Gleich\"\n",
    "println(42 != 23)  // \"Ungleich\""
   ]
  },
  {
   "cell_type": "markdown",
   "metadata": {},
   "source": [
    "## Bit-Operatoren\n",
    "Zahlen können noch auf andere Weise verändert werden, nämlich durch Manipulation ihrer Bit-Darstellung."
   ]
  },
  {
   "cell_type": "markdown",
   "metadata": {},
   "source": [
    "Die Operatoren `&` und `|` verknüpfen die einzelnen Bits zweier Zahlen miteinander:"
   ]
  },
  {
   "cell_type": "code",
   "execution_count": 9,
   "metadata": {},
   "outputs": [
    {
     "name": "stderr",
     "output_type": "stream",
     "text": [
      "0\n",
      "3\n",
      "2\n"
     ]
    }
   ],
   "source": [
    "println(2 & 1)     // 10 & 01 -> 00  (\"und\")\n",
    "println(2 | 1)     // 10 & 01 -> 11  (\"oder\")\n",
    "println(3 ^ 1)     // 11 & 01 -> 10  (\"xor\")\n"
   ]
  },
  {
   "cell_type": "markdown",
   "metadata": {},
   "source": [
    "Die *Shift*-Operatoren `<<` und `>>` verschieben die Bits der Zahl links um die Anzahl an Stellen, die rechts steht.\n",
    "Dabei werden auf einer Seite der Binärdarstellung Ziffern entfernt und auf der anderen Seite mit Nullen aufgefüllt."
   ]
  },
  {
   "cell_type": "code",
   "execution_count": 10,
   "metadata": {},
   "outputs": [
    {
     "name": "stderr",
     "output_type": "stream",
     "text": [
      "1\n",
      "6\n"
     ]
    }
   ],
   "source": [
    "println(3 >> 1)    // 11 -> 01\n",
    "println(3 << 1)    // 11 -> 110"
   ]
  },
  {
   "cell_type": "markdown",
   "metadata": {},
   "source": []
  }
 ],
 "metadata": {
  "kernelspec": {
   "display_name": "Go",
   "language": "go",
   "name": "go"
  },
  "language_info": {
   "codemirror_mode": "",
   "file_extension": ".go",
   "mimetype": "",
   "name": "go",
   "nbconvert_exporter": "",
   "pygments_lexer": "",
   "version": "go1.17.2"
  }
 },
 "nbformat": 4,
 "nbformat_minor": 4
}
