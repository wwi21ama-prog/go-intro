{
 "cells": [
  {
   "cell_type": "markdown",
   "metadata": {},
   "source": [
    "# Variablen\n",
    "\n",
    "Variablen werden benutzt, um Daten zu speichern und wieder abzurufen. Im Laufe eines Programmablaufs kann eine Variable verschiedene Werte annehmen und wieder ausgelesen werden.\n",
    "\n",
    "Dabei kann mit Werten von Variablen gerechnet werden, als wären es die Zahlen, die ihnen zuletzt zugewiesen wurden."
   ]
  },
  {
   "cell_type": "markdown",
   "metadata": {},
   "source": [
    "## Definition und Zuweisungen\n",
    "Wir weisen zwei Variablen jeweils eine Zahl zu und werten dann diese beiden Variablen sowie ihre Summe und ihr Produkt aus:"
   ]
  },
  {
   "cell_type": "code",
   "execution_count": 18,
   "metadata": {
    "collapsed": false,
    "inputHidden": false,
    "jupyter": {
     "outputs_hidden": false
    },
    "outputHidden": false
   },
   "outputs": [],
   "source": [
    "a := 19\n",
    "b := 23"
   ]
  },
  {
   "cell_type": "code",
   "execution_count": 19,
   "metadata": {
    "collapsed": false,
    "inputHidden": false,
    "jupyter": {
     "outputs_hidden": false
    },
    "outputHidden": false
   },
   "outputs": [
    {
     "name": "stderr",
     "output_type": "stream",
     "text": [
      "19\n",
      "23\n",
      "42\n",
      "437\n"
     ]
    }
   ],
   "source": [
    "println(a)\n",
    "println(b)\n",
    "println(a+b)\n",
    "println(a*b)"
   ]
  },
  {
   "cell_type": "markdown",
   "metadata": {},
   "source": [
    "**Anmerkung:** Ein Ausdruck wie ```println(a)``` sorgt dafür, dass der Wert von ```a``` auf eine eigene Zeile ausgegeben wird. Lässt man oben die ```println(...)```-Teile weg, werden zwar alle Ausdrücke ausgewertet, aber nur die letzte Zeile wird ausgegeben."
   ]
  },
  {
   "cell_type": "markdown",
   "metadata": {},
   "source": [
    "### Typangabe bei der Definition\n",
    "\n",
    "Bei der Definition einer Variablen muss klar sein, welchen *Datentyp* (oder kurz *Typ*) die Variable hat.\n",
    "Es gibt verschiedene Datentypen wie z.B. `int` für ganze Zahlen oder `string` für Zeichenfolgen.\n",
    "Die Angabe bei der Definition ist wichtig, weil davon abhängt, wie viel Speicher für die Variable gebraucht wird.\n",
    "Im obigen Beispiel definieren und initialisieren wir Variablen z.B. mit dem Ausdruck `a:=19`. Mit diesem Ausdruck legen wir zwei Dinge auf einmal fest:\n",
    "\n",
    "1. `a` soll eine neue Variable sein.\n",
    "2. Der Wert von `a` soll am Anfang 19 sein.\n",
    "\n",
    "Aus dem Anfangswert bestimmt der Compiler den Typ von `a`, in diesem Fall `int`. Damit kann er Speicher reservieren und die Variable initialisieren.\n",
    "In der Regel werden wir Variablen auf diese Weise definieren.\n",
    "Manchmal ist es jedoch nützlich oder notwendig, den Typ einer Variablen explizit anzugeben. Die folgende Anweisung definiert eine Variable bom Typ `int`, ohne diese explizit zu initialisieren:"
   ]
  },
  {
   "cell_type": "code",
   "execution_count": 3,
   "metadata": {
    "collapsed": false,
    "inputHidden": false,
    "jupyter": {
     "outputs_hidden": false
    },
    "outputHidden": false
   },
   "outputs": [],
   "source": [
    "var a int"
   ]
  },
  {
   "cell_type": "markdown",
   "metadata": {},
   "source": [
    "## Rechnen mit Variablen\n",
    "\n",
    "Das Zuweisen und Auslesen von Werten in Variablen alleine ist noch nicht sehr nützlich. Im obigen Beispiel haben wir schon die Summe und das Produkt zweier Variablen ausgegeben. Genau so kann man an Variablen auch direkt ein Rechenergebnis zuweisen."
   ]
  },
  {
   "cell_type": "code",
   "execution_count": 4,
   "metadata": {
    "collapsed": false,
    "inputHidden": false,
    "jupyter": {
     "outputs_hidden": false
    },
    "outputHidden": false
   },
   "outputs": [
    {
     "data": {
      "text/plain": [
       "42"
      ]
     },
     "execution_count": 4,
     "metadata": {},
     "output_type": "execute_result"
    }
   ],
   "source": [
    "a = 19 + 23\n",
    "a"
   ]
  },
  {
   "cell_type": "code",
   "execution_count": 5,
   "metadata": {
    "collapsed": false,
    "inputHidden": false,
    "jupyter": {
     "outputs_hidden": false
    },
    "outputHidden": false
   },
   "outputs": [
    {
     "data": {
      "text/plain": [
       "57"
      ]
     },
     "execution_count": 5,
     "metadata": {},
     "output_type": "execute_result"
    }
   ],
   "source": [
    "b = a + 15\n",
    "b"
   ]
  },
  {
   "cell_type": "code",
   "execution_count": 6,
   "metadata": {
    "collapsed": false,
    "inputHidden": false,
    "jupyter": {
     "outputs_hidden": false
    },
    "outputHidden": false
   },
   "outputs": [
    {
     "data": {
      "text/plain": [
       "2397"
      ]
     },
     "execution_count": 6,
     "metadata": {},
     "output_type": "execute_result"
    }
   ],
   "source": [
    "c := 3\n",
    "d := c + b * a\n",
    "d"
   ]
  },
  {
   "cell_type": "markdown",
   "metadata": {},
   "source": [
    "**Anmerkung:** Man beachte, dass oben für Zuweisungen zu ```a``` und ```b``` nur das Gleichheitszeichen (```=```) verwendet wird, für ```c``` und ```d``` aber der Ausdruck \"```:=```\".\n",
    "Auch hier sieht man, dass man die erste Verwendung (*Definition*) einer Variablen von allen weiteren Verwendungen unterscheiden muss."
   ]
  },
  {
   "cell_type": "markdown",
   "metadata": {},
   "source": [
    "### Ein komplexeres Beispiel: Addieren der Zahlen von 1 bis n\n",
    "Wir wollen die Summe der Zahlen von 1 bis zu einer gegebenen Zahl n addieren. Also z.B. für $n = 6$ die Summe $1+2+3+4+5+6$ berechnen.\n",
    "\n",
    "Für ein festes $n$ kann man natürlich einfach genau diese Summe hinschreiben. Will man flexibel bleiben, sollte man sich zuerst überlegen, wie man die Aufgabe schrittweise angehen kann. Ein Mensch berechnet solch eine Summe im Kopf, indem er Zwischenergebnisse berechnet und sich merkt. Dies machen wir auch beim Programmieren, indem wir Variablen benutzen:"
   ]
  },
  {
   "cell_type": "code",
   "execution_count": 7,
   "metadata": {
    "collapsed": false,
    "inputHidden": false,
    "jupyter": {
     "outputs_hidden": false
    },
    "outputHidden": false
   },
   "outputs": [
    {
     "data": {
      "text/plain": [
       "21"
      ]
     },
     "execution_count": 7,
     "metadata": {},
     "output_type": "execute_result"
    }
   ],
   "source": [
    "sum := 0\n",
    "\n",
    "sum = sum + 1\n",
    "sum = sum + 2\n",
    "sum = sum + 3\n",
    "sum = sum + 4\n",
    "sum = sum + 5\n",
    "sum = sum + 6\n",
    "sum"
   ]
  },
  {
   "cell_type": "markdown",
   "metadata": {},
   "source": [
    "**Anmerkung:** An diesem Beispiel sieht man u.A., dass auf beiden Seiten einer Zuweisung auch die gleiche Variable vorkommen darf. Solche Zuweisungen liest man nicht wie mathematische Gleichungen (also Aussagen über einen Zusammenhang), sondern als Anweisungen: \"Der neue Wert der Variable ```sum``` soll ihr alter Wert plus 3 sein\"."
   ]
  },
  {
   "cell_type": "code",
   "execution_count": null,
   "metadata": {},
   "outputs": [],
   "source": []
  }
 ],
 "metadata": {
  "kernel_info": {
   "name": "gophernotes"
  },
  "kernelspec": {
   "display_name": "Go",
   "language": "go",
   "name": "gophernotes"
  },
  "language_info": {
   "codemirror_mode": "",
   "file_extension": ".go",
   "mimetype": "",
   "name": "go",
   "nbconvert_exporter": "",
   "pygments_lexer": "",
   "version": "go1.13.1"
  },
  "nteract": {
   "version": "0.15.0"
  }
 },
 "nbformat": 4,
 "nbformat_minor": 4
}
