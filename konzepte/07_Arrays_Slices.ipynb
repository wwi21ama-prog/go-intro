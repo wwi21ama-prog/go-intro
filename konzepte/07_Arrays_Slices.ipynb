{
 "cells": [
  {
   "cell_type": "markdown",
   "metadata": {},
   "source": [
    "# Arrays und Slices"
   ]
  },
  {
   "cell_type": "markdown",
   "metadata": {},
   "source": [
    "### Arrays\n",
    "Oft will man nicht nur einzelne Werte, sondern ganze Listen von Werten darstellen bzw. damit rechnen.\n",
    "Dazu verwendet man *Arrays*. Man definiert ein Array, inden man in eckigen Klammern die Anzahl an Stellen vor den Datentyp schreibt.\n",
    "Die folgende Zeile definiert ein Array aus 5 ganzen Zahlen:"
   ]
  },
  {
   "cell_type": "code",
   "execution_count": 1,
   "metadata": {},
   "outputs": [],
   "source": [
    "var a1 [5]int // Ein Array der Länge 5"
   ]
  },
  {
   "cell_type": "code",
   "execution_count": 2,
   "metadata": {},
   "outputs": [
    {
     "data": {
      "text/plain": [
       "[0 0 0 0 0]"
      ]
     },
     "execution_count": 2,
     "metadata": {},
     "output_type": "execute_result"
    }
   ],
   "source": [
    "a1"
   ]
  },
  {
   "cell_type": "markdown",
   "metadata": {},
   "source": [
    "Auf einzelne Stellen eines Arrays greift man zu, indem man hinter den Namen des Arrays in eckigen Klammern die Stelle schreibt, die man verwenden will.\n",
    "Das Ergebnis ist ein einzelner Wert, wie er auch in einer \"normalen\" Variable stehen könnte:"
   ]
  },
  {
   "cell_type": "code",
   "execution_count": 3,
   "metadata": {},
   "outputs": [],
   "source": [
    "a1[3] = 42"
   ]
  },
  {
   "cell_type": "code",
   "execution_count": 4,
   "metadata": {},
   "outputs": [
    {
     "data": {
      "text/plain": [
       "[0 0 0 42 0]"
      ]
     },
     "execution_count": 4,
     "metadata": {},
     "output_type": "execute_result"
    }
   ],
   "source": [
    "a1"
   ]
  },
  {
   "cell_type": "markdown",
   "metadata": {},
   "source": [
    "Dabei ist darauf zu achten, dass man nur auf Werte innerhalb der Array-Grenzen zugreift. Zugriffe außerhalb der Array-Grenzen sind Laufzeitfehler.\n",
    "Ein Array der Länge 5 hat die gültigen Indizes $0 \\ldots 4$:"
   ]
  },
  {
   "cell_type": "code",
   "execution_count": 5,
   "metadata": {},
   "outputs": [
    {
     "ename": "ERROR",
     "evalue": "reflect: array index out of range",
     "output_type": "error",
     "traceback": [
      "reflect: array index out of range"
     ]
    }
   ],
   "source": [
    "a1[-1]"
   ]
  },
  {
   "cell_type": "code",
   "execution_count": null,
   "metadata": {},
   "outputs": [
    {
     "ename": "ERROR",
     "evalue": "reflect: array index out of range",
     "output_type": "error",
     "traceback": [
      "reflect: array index out of range"
     ]
    }
   ],
   "source": [
    "a1[5]"
   ]
  },
  {
   "cell_type": "markdown",
   "metadata": {},
   "source": [
    "### Slices\n",
    "Arrays sind ein zusammenhängender Bereich im Speicher mit einer festen Größe.\n",
    "Man kann in Schleifen schnell über sie iterieren und Zugriffe kosten wenig Zeit.\n",
    "Die feste Größe kann aber auch ein Nachteil sein, wenn man die Größe z.B. am Anfang nicht kennt.\n",
    "Die folgende Anweisung definiert eine *Slice*, sozusagen ein Array mit Variabler Größe:"
   ]
  },
  {
   "cell_type": "code",
   "execution_count": null,
   "metadata": {},
   "outputs": [],
   "source": [
    "var a2 []int"
   ]
  },
  {
   "cell_type": "code",
   "execution_count": null,
   "metadata": {},
   "outputs": [
    {
     "data": {
      "text/plain": [
       "[]"
      ]
     },
     "execution_count": 9,
     "metadata": {},
     "output_type": "execute_result"
    }
   ],
   "source": [
    "a2"
   ]
  },
  {
   "cell_type": "markdown",
   "metadata": {},
   "source": [
    "Die Slice ist am Anfang leer. Technisch gesehen liegt jeder Slice ein Array zugrunde. Es wurde ein Array der Länge 0 definiert und die Slice ist sozusagen eine Sicht auf dieses Array.\n",
    "Mitt der Funktion `append` kann man ein Element an die Slice anhängen:"
   ]
  },
  {
   "cell_type": "code",
   "execution_count": null,
   "metadata": {},
   "outputs": [],
   "source": [
    "a2 = append(a2, 42)"
   ]
  },
  {
   "cell_type": "code",
   "execution_count": null,
   "metadata": {},
   "outputs": [
    {
     "data": {
      "text/plain": [
       "[42]"
      ]
     },
     "execution_count": 11,
     "metadata": {},
     "output_type": "execute_result"
    }
   ],
   "source": [
    "a2"
   ]
  },
  {
   "cell_type": "markdown",
   "metadata": {},
   "source": [
    "Wenn das zugrundeliegende Array zu klein ist, legt `append` ein neues Array an und kopiert alle Werte.\n",
    "Die Funktion liefert dann eine neue Slice zurück, die auf das neue Array zeigt. Deshalb muss im Beispiel diese Slice wieder an `a2` zugewiesen werden."
   ]
  },
  {
   "cell_type": "code",
   "execution_count": null,
   "metadata": {},
   "outputs": [
    {
     "data": {
      "text/plain": [
       "[42 15 23 13 5 7 15 23 13 5 7]"
      ]
     },
     "execution_count": 14,
     "metadata": {},
     "output_type": "execute_result"
    }
   ],
   "source": [
    "a2 = append(a2, 15)\n",
    "a2 = append(a2, 23,13,5,7)\n",
    "a2"
   ]
  },
  {
   "cell_type": "markdown",
   "metadata": {},
   "source": [
    "Slices können mittels der Funktion `make` bequem mit einer vorgegebenen Länge erstellt werden.\n",
    "Dabei gibt man als erstes Argument den zu erstellenden Slice-Typ an und als zweites Argument die Anzahl der Stellen:"
   ]
  },
  {
   "cell_type": "code",
   "execution_count": null,
   "metadata": {},
   "outputs": [],
   "source": [
    "a3 := make([]int, 3)\n",
    "a4 := make([]float64, 5)\n",
    "a3[1] = 25\n",
    "a4[2] = 33.2"
   ]
  },
  {
   "cell_type": "code",
   "execution_count": null,
   "metadata": {},
   "outputs": [
    {
     "data": {
      "text/plain": [
       "[0 25 0]"
      ]
     },
     "execution_count": 27,
     "metadata": {},
     "output_type": "execute_result"
    }
   ],
   "source": [
    "a3"
   ]
  },
  {
   "cell_type": "code",
   "execution_count": null,
   "metadata": {},
   "outputs": [
    {
     "data": {
      "text/plain": [
       "[0 0 33.2 0 0]"
      ]
     },
     "execution_count": 28,
     "metadata": {},
     "output_type": "execute_result"
    }
   ],
   "source": [
    "a4"
   ]
  },
  {
   "cell_type": "markdown",
   "metadata": {},
   "source": [
    "Für eine gegebene Slice kann man mit der Funktion `len` die Anzahl der verwendeten Stellen bestimmen:"
   ]
  },
  {
   "cell_type": "code",
   "execution_count": null,
   "metadata": {},
   "outputs": [
    {
     "data": {
      "text/plain": [
       "3"
      ]
     },
     "execution_count": 31,
     "metadata": {},
     "output_type": "execute_result"
    }
   ],
   "source": [
    "len(a3)"
   ]
  },
  {
   "cell_type": "code",
   "execution_count": null,
   "metadata": {},
   "outputs": [
    {
     "data": {
      "text/plain": [
       "5"
      ]
     },
     "execution_count": 32,
     "metadata": {},
     "output_type": "execute_result"
    }
   ],
   "source": [
    "len(a4)"
   ]
  },
  {
   "cell_type": "markdown",
   "metadata": {},
   "source": [
    "Slices können bei ihrer Definition auch direkt initialisiert werden.\n",
    "Dies geschieht, indem man bei der Defintion hinter den Typ in geschweiften Klammern die Werte schreibt:"
   ]
  },
  {
   "cell_type": "code",
   "execution_count": null,
   "metadata": {},
   "outputs": [
    {
     "data": {
      "text/plain": [
       "[2 3 5 7 11 13]"
      ]
     },
     "execution_count": 42,
     "metadata": {},
     "output_type": "execute_result"
    }
   ],
   "source": [
    "a5 := []int{2, 3, 5, 7, 11, 13}\n",
    "a5"
   ]
  },
  {
   "cell_type": "markdown",
   "metadata": {},
   "source": [
    "Man kann auch bequem aufTeilbereiche einer Slice (oder auch eines Arrays) zugreifen.\n",
    "Folgendes definiert eine neue Slice, die einen Teil von `a5` zeigt:"
   ]
  },
  {
   "cell_type": "code",
   "execution_count": null,
   "metadata": {},
   "outputs": [
    {
     "data": {
      "text/plain": [
       "[3 5]"
      ]
     },
     "execution_count": 44,
     "metadata": {},
     "output_type": "execute_result"
    }
   ],
   "source": [
    "a6 := a5[1:3]\n",
    "a6"
   ]
  },
  {
   "cell_type": "markdown",
   "metadata": {},
   "source": [
    "Wie man sieht, zeigt `a6` einen Ausschnitt aus `a5`.\n",
    "Dabei sollte man beachten, dass das zugrundeliegende Array bei beiden Slices das selbe ist.\n",
    "Änderungen an `a6` wirken sich auch auf `a5` aus:"
   ]
  },
  {
   "cell_type": "code",
   "execution_count": null,
   "metadata": {},
   "outputs": [
    {
     "name": "stderr",
     "output_type": "stream",
     "text": [
      "[5000 5]\n",
      "[2 5000 5 7 11 13]\n"
     ]
    }
   ],
   "source": [
    "a6[0] = 5000\n",
    "println(a6)\n",
    "println(a5)"
   ]
  },
  {
   "cell_type": "markdown",
   "metadata": {},
   "source": [
    "Wir haben eben also keine Kopie von `a5` angelegt, sondern nur eine weitere Sicht auf das zugrundeliegende Array erzeugt.\n",
    "Die Funktion `copy` legt wirklich eine Kopie an. Dazu muss man die Ziel-Slice vorher mit der richtigen Länge definiert haben:"
   ]
  },
  {
   "cell_type": "code",
   "execution_count": null,
   "metadata": {},
   "outputs": [
    {
     "data": {
      "text/plain": [
       "[2 5000 5 7 11 13]"
      ]
     },
     "execution_count": 56,
     "metadata": {},
     "output_type": "execute_result"
    }
   ],
   "source": [
    "a7:=make([]int, len(a5))\n",
    "copy(a7, a5)\n",
    "a7"
   ]
  },
  {
   "cell_type": "markdown",
   "metadata": {},
   "source": [
    "In `a7` können wir nun Werte verändern, ohne dass dies `a5` betrifft:"
   ]
  },
  {
   "cell_type": "code",
   "execution_count": null,
   "metadata": {},
   "outputs": [
    {
     "name": "stderr",
     "output_type": "stream",
     "text": [
      "[1000000 5000 5 7 11 13]\n",
      "[2 5000 5 7 11 13]\n"
     ]
    }
   ],
   "source": [
    "a7[0] = 1000000\n",
    "println(a7)\n",
    "println(a5)"
   ]
  },
  {
   "cell_type": "code",
   "execution_count": null,
   "metadata": {},
   "outputs": [],
   "source": []
  }
 ],
 "metadata": {
  "kernelspec": {
   "display_name": "Go",
   "language": "go",
   "name": "go"
  },
  "language_info": {
   "codemirror_mode": "",
   "file_extension": ".go",
   "mimetype": "",
   "name": "go",
   "nbconvert_exporter": "",
   "pygments_lexer": "",
   "version": "go1.17.2"
  }
 },
 "nbformat": 4,
 "nbformat_minor": 4
}
