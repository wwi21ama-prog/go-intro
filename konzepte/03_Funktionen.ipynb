{
 "cells": [
  {
   "cell_type": "markdown",
   "metadata": {},
   "source": [
    "# Funktionen\n",
    "\n",
    "In den bisherigen Beispielen haben wir Code geschrieben, der jeweils ein Problem für eine ganz konkrete Zahl löst. Die Summe der Zahlen von 1 bis 6 oder den Betrag von 42.\n",
    "Mit den Kontrollstrukturen `for` und `if` haben wir die Algorithmen allerdings bereits auf eine generische Art und Weise aufgeschrieben. An der Schleife für die Summen von Zahlen muss man nur eine Kleinigkeit ändern, um die Berechnung für eine andere Größe durchzuführen. Die folgenden Schleifen berechnen die Summen der Zahlen von 1 bis 10 und von 1 bis 10000:"
   ]
  },
  {
   "cell_type": "code",
   "execution_count": 1,
   "metadata": {
    "collapsed": false,
    "inputHidden": false,
    "jupyter": {
     "outputs_hidden": false
    },
    "outputHidden": false
   },
   "outputs": [
    {
     "data": {
      "text/plain": [
       "55"
      ]
     },
     "execution_count": 1,
     "metadata": {},
     "output_type": "execute_result"
    }
   ],
   "source": [
    "sum := 0\n",
    "\n",
    "for i:=1; i<=10; i=i+1 {\n",
    "    sum = sum + i\n",
    "}\n",
    "sum"
   ]
  },
  {
   "cell_type": "code",
   "execution_count": 2,
   "metadata": {
    "collapsed": false,
    "inputHidden": false,
    "jupyter": {
     "outputs_hidden": false
    },
    "outputHidden": false
   },
   "outputs": [
    {
     "data": {
      "text/plain": [
       "50005000"
      ]
     },
     "execution_count": 2,
     "metadata": {},
     "output_type": "execute_result"
    }
   ],
   "source": [
    "sum := 0\n",
    "\n",
    "for i:=1; i<=10000; i=i+1 {\n",
    "    sum = sum + i\n",
    "}\n",
    "sum"
   ]
  },
  {
   "cell_type": "markdown",
   "metadata": {},
   "source": [
    "Wir verallgemeinern die Schleife nun, damit sie die Berechnung für beliebige ganze Zahlen durchführen kann.\n",
    "Dazu schreiben wir eine Funktion `sum_upto`, die die Schleife enthält.\n",
    "Der Unterschied zu den obigen Beispielen ist, dass keine konkrete Zahl in der Schleifenbedingung steht, sondern eine weitere Variable `n`:"
   ]
  },
  {
   "cell_type": "code",
   "execution_count": 3,
   "metadata": {
    "collapsed": false,
    "inputHidden": false,
    "jupyter": {
     "outputs_hidden": false
    },
    "outputHidden": false
   },
   "outputs": [],
   "source": [
    "func sum_upto(n int) int {\n",
    "    sum := 0\n",
    "    \n",
    "    for i:=1; i<=n; i=i+1 {\n",
    "        sum = sum + i\n",
    "    }\n",
    "    return sum\n",
    "}"
   ]
  },
  {
   "cell_type": "markdown",
   "metadata": {},
   "source": [
    "Eine Funktion wird definiert, indem man das Schlüsselwort `func` gefolgt vom Namen der Funktion und einem Klammerpaar schreibt. Im Klammerpaar stehen die *Parameter* der Funktion, danach folgt noch der *Rückgabetyp* der Funktion. Alles zusammen nennt man *Kopf* oder *Prototyp* der Funktion. Im Beispiel haben wir den folgenden Protypen:\n",
    "\n",
    "    func sum_upto(n int) int\n",
    "\n",
    "Von links nach rechts gelesen bedeutet dies:\n",
    "\n",
    "1. Wir definieren eine Funktion (**func**) ...\n",
    "2. ... mit dem Namen **sum_upto** ...\n",
    "3. ... die ein *Argument* mit dem Namen **n** erwartet.\n",
    "4. Der *Typ* dieses Arguments ist **int** ...\n",
    "5. ... und die Funktion liefert einen Wert vom Typ **int** zurück.\n",
    "\n",
    "Wie eine Schleife beginnt auch eine Funktion mit einer öffnenden geschweiften Klammer nach dem Funktionskopf und endet mit der dazugehörigen schließenden Klammer.\n",
    "Der Bereich zwischen den geschweiften Klammern heißt **Funktionsrumpf**.\n",
    "Im Funktionsrumpf steht Code, der die Argumente (im Beispiel `n`) enthält und mit ihnen rechnet.\n",
    "Beim Aufruf der Funktion werden *Argumente* mit angegeben. Das sind Werte, die zu Beginn der Funktion an die Parameter zugewiesen werden.\n",
    "Die folgende Zeile ruft unsere Funktion `sum_upto` mit dem Argument 42 auf:"
   ]
  },
  {
   "cell_type": "code",
   "execution_count": 4,
   "metadata": {
    "collapsed": false,
    "inputHidden": false,
    "jupyter": {
     "outputs_hidden": false
    },
    "outputHidden": false
   },
   "outputs": [
    {
     "data": {
      "text/plain": [
       "903"
      ]
     },
     "execution_count": 4,
     "metadata": {},
     "output_type": "execute_result"
    }
   ],
   "source": [
    "sum_upto(42)"
   ]
  },
  {
   "cell_type": "markdown",
   "metadata": {},
   "source": [
    "Am Ende des Funktionsrumpfes schreiben wir nicht mehr einfach nur die Variable `sum` hin, sondern davor steht das Schlüsselwort `return`.\n",
    "Dies bewirkt, dass die Funktion an dieser Stelle endet und ihr Rechenergebnis der Wert der Variable `sum` ist.\n",
    "Funktionsaufrufe können - wie jeder andere Wert auch - in Berechnungen oder Variablenzuweisungen verwendet werden.\n",
    "An Ihrer Stelle wird jeweils der Wert verwendet, der bei der Ausführung durch `return` festgelegt wurde:"
   ]
  },
  {
   "cell_type": "code",
   "execution_count": 5,
   "metadata": {
    "collapsed": false,
    "inputHidden": false,
    "jupyter": {
     "outputs_hidden": false
    },
    "outputHidden": false
   },
   "outputs": [
    {
     "data": {
      "text/plain": [
       "121"
      ]
     },
     "execution_count": 5,
     "metadata": {},
     "output_type": "execute_result"
    }
   ],
   "source": [
    "a := sum_upto(10)\n",
    "b := a + sum_upto(11)\n",
    "b"
   ]
  },
  {
   "cell_type": "code",
   "execution_count": null,
   "metadata": {},
   "outputs": [],
   "source": []
  }
 ],
 "metadata": {
  "kernelspec": {
   "display_name": "Go",
   "language": "go",
   "name": "go"
  },
  "language_info": {
   "codemirror_mode": "",
   "file_extension": ".go",
   "mimetype": "",
   "name": "go",
   "nbconvert_exporter": "",
   "pygments_lexer": "",
   "version": "go1.17.2"
  }
 },
 "nbformat": 4,
 "nbformat_minor": 4
}
