{
 "cells": [
  {
   "cell_type": "markdown",
   "metadata": {},
   "source": [
    "# Schleifen\n",
    "\n",
    "Ein weiterer wichtiger Aspekt des Programmierens ist es, sich wiederholende Anweisungen zu automatisieren. Im Beispiel zur Addition von Zahlen haben wir eine Variable `sum` für die Zwischenergebnisse verwendet. Genau wie es oben steht, würde ein Mensch rechnen. Die Erklärung, wie die Berechnung durchzuführen ist, wäre allerdings erheblich kürzer: Ein Mensch würde z.B. folgende Anweisung durchaus verstehen und die richtigen Schritte durchführen:\n",
    "    \n",
    "    Beginne mit `sum = 0` und addiere nacheinander die Zahlen von 1 bis 6.\n",
    "\n",
    "Beim Programmieren nennt man diese Art von Anweisungen *Schleifen*. In diesem Beispiel definiert man einen *Schleifenzähler*, der in jedem Schritt um 1 hochgezählt und jeweils auf `sum` addiert wird:"
   ]
  },
  {
   "cell_type": "code",
   "execution_count": 1,
   "metadata": {
    "collapsed": false,
    "inputHidden": false,
    "jupyter": {
     "outputs_hidden": false
    },
    "outputHidden": false
   },
   "outputs": [
    {
     "data": {
      "text/plain": [
       "21"
      ]
     },
     "execution_count": 1,
     "metadata": {},
     "output_type": "execute_result"
    }
   ],
   "source": [
    "sum := 0\n",
    "\n",
    "for i:=1; i<=6; i=i+1 {\n",
    "    sum = sum + i\n",
    "}\n",
    "sum"
   ]
  },
  {
   "cell_type": "markdown",
   "metadata": {},
   "source": [
    "**Anmerkung:** Hier wird eine Schleife mit Hilfe des Schlüsselworts ```for``` definiert:\n",
    "\n",
    "    for i:=1; i<=6; i++ {\n",
    "\n",
    "Dies ist der *Schleifenkopf*. Er besteht aus drei Teilen, die jeweils mit einem Semikolon voneinander getrennt werden:\n",
    "\n",
    "1. **Init-Statement:** Diese Anweisung wird einmal vor Beginn der Schleife ausgeführt. In unserem Beispiel wird der Zähler definiert und mit 1 initialisiert.\n",
    "2. **Bedingung:** Hier steht die Bedingung, die erfüllt sein muss, damit die Schleife weiterläuft. Im Beispiel darf der Zähler höchstens den Wert 6 haben. `i` größer wird, bricht die Schleife ab.\n",
    "3. **Post-Statement:** Diese Anweisung wird nach jedem einzelnen Durchlauf der Schleife ausgeführt. Im Beispiel wird jeweils `i` um 1 erhöht.\n",
    "\n",
    "Am Ende des Schleifenkopfs steht eine öffnende geschweifte Klammer (`{`). Diese beginnt den Hauptteil der Schleife, den *Schleifenrumpf*. Dies ist der Gesamte Code bis zu passenden schließenden Klammer, also im Beispiel die Zeile\n",
    "\n",
    "    sum = sum + i\n",
    "\n",
    "Dieser Code wird in jedem Schleifendurchlauf ausgeführt, bis die Schleifenbedingung nicht mehr erfüllt ist. Im Beispiel wird also zuerst `sum:=0` und `i=1` gesetzt und anschließend so lange abwechselnd die Anweisungen `sum = sum + i` und `i = i + 1` ausgeführt, bis die Bedingung `i<=6` nicht mehr gilt. Am Ende steht dadurch in `sum` die Summe der Zahlen von 1 bis 6."
   ]
  },
  {
   "cell_type": "markdown",
   "metadata": {},
   "source": [
    "### Beispiel: Schleife ohne Initialisierung und ohne Post-Statement\n",
    "\n",
    "Die Initialisierung und das Post-Statement werden oft verwendet, sind aber nicht unbedingt notwendig. Man kann sie einfach weglassen.\n",
    "Die folgende Schleife berechnet z.B. die erste Zweierpotenz, die 10000 liegt:"
   ]
  },
  {
   "cell_type": "code",
   "execution_count": 2,
   "metadata": {
    "collapsed": false,
    "inputHidden": false,
    "jupyter": {
     "outputs_hidden": false
    },
    "outputHidden": false
   },
   "outputs": [
    {
     "data": {
      "text/plain": [
       "16384"
      ]
     },
     "execution_count": 2,
     "metadata": {},
     "output_type": "execute_result"
    }
   ],
   "source": [
    "result := 1\n",
    "\n",
    "for result < 10000 {\n",
    "    result = result * 2\n",
    "}\n",
    "result"
   ]
  },
  {
   "cell_type": "code",
   "execution_count": null,
   "metadata": {},
   "outputs": [],
   "source": []
  }
 ],
 "metadata": {
  "kernelspec": {
   "display_name": "Go",
   "language": "go",
   "name": "go"
  },
  "language_info": {
   "codemirror_mode": "",
   "file_extension": ".go",
   "mimetype": "",
   "name": "go",
   "nbconvert_exporter": "",
   "pygments_lexer": "",
   "version": "go1.17.2"
  }
 },
 "nbformat": 4,
 "nbformat_minor": 4
}
