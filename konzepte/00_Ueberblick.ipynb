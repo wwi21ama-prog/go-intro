{
 "cells": [
  {
   "cell_type": "markdown",
   "metadata": {},
   "source": [
    "# Überblick zu Programmierkonzepten\n",
    "\n",
    "In diesem Ordner befinden sich eine Reihe von Dokumenten, die Stück für Stück die grundlegenden Konzepte beim Programmieren einführen sollen."
   ]
  },
  {
   "cell_type": "markdown",
   "metadata": {},
   "source": [
    "[1. Variablen](./01_Variablen.ipynb)  \n",
    "[2. Schleifen](./02_Schleifen.ipynb)  \n",
    "[3. Funktionen](./03_Funktionen.ipynb)  \n",
    "[4. Bedingte Sprünge](./04_IfThenElse.ipynb)  \n",
    "[5. Operatoren](./05_Operatoren.ipynb)  \n",
    "[6. Elementare Datentypen](./06_Datentypen.ipynb)  \n",
    "[7. Arrays und Schleifen](./07_Arrays_Slices.ipynb)  \n",
    "[8. Strings](./08_Strings.ipynb)  "
   ]
  },
  {
   "cell_type": "markdown",
   "metadata": {},
   "source": [
    "## Anmerkungen zur interaktiven Umgebung\n",
    "\n",
    "* Hinter der interaktiven Umgebung steht der Webservice mybinder.org.\n",
    "  Die Umgebung wird daher meist \"Binder-Umgebung\" genannt.\n",
    "* Die Codebeispiele in den Notebooks können in der Binder-Umgebung verändert und ausprobiert werden.\n",
    "  Bei jedem Start der Umgebung wird mit einer frischen Kopie des Repositories gestartet.\n",
    "  D.h. Änderungen, die Sie machen, werden nicht automatisch gespeichert.\n",
    "  Man kann seine Änderungen mittels den Icons oberhalb der Notebooks herunterladen oder im Browser lokal abspeichern.\n",
    "* Die Notebooks in der Binder-Umgebung enthalten keine vollständigen Go-Programme.\n",
    "  Es gibt keine Programme in Dateien, keine `main`-Funktion etc.\n",
    "  Hier sollen Konzepte erläutert werden.\n",
    "* Um eine Code-Zelle auszuführen, editieren Sie sie und drücken anschließen SHIFT+ENTER."
   ]
  },
  {
   "cell_type": "markdown",
   "metadata": {},
   "source": []
  }
 ],
 "metadata": {
  "kernel_info": {
   "name": "gophernotes"
  },
  "kernelspec": {
   "display_name": "Go",
   "language": "go",
   "name": "gophernotes"
  },
  "language_info": {
   "codemirror_mode": "",
   "file_extension": ".go",
   "mimetype": "",
   "name": "go",
   "nbconvert_exporter": "",
   "pygments_lexer": "",
   "version": "go1.13.1"
  },
  "nteract": {
   "version": "0.15.0"
  }
 },
 "nbformat": 4,
 "nbformat_minor": 4
}
